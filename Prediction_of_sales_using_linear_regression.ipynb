{
 "cells": [
  {
   "cell_type": "markdown",
   "metadata": {},
   "source": [
    "# By_using_gradient_decent_algo"
   ]
  },
  {
   "cell_type": "code",
   "execution_count": 1,
   "metadata": {},
   "outputs": [],
   "source": [
    "import pandas as pd"
   ]
  },
  {
   "cell_type": "code",
   "execution_count": 2,
   "metadata": {},
   "outputs": [],
   "source": [
    "advertising_data=pd.read_csv('Advertising.csv',index_col=0)"
   ]
  },
  {
   "cell_type": "code",
   "execution_count": 3,
   "metadata": {},
   "outputs": [
    {
     "name": "stderr",
     "output_type": "stream",
     "text": [
      "C:\\Users\\DIVAKAR\\Anaconda3\\lib\\site-packages\\ipykernel_launcher.py:1: FutureWarning: Method .as_matrix will be removed in a future version. Use .values instead.\n",
      "  \"\"\"Entry point for launching an IPython kernel.\n"
     ]
    }
   ],
   "source": [
    "x_feature=advertising_data[['TV',\"Radio\",\"Newspaper\"]].as_matrix()"
   ]
  },
  {
   "cell_type": "code",
   "execution_count": 4,
   "metadata": {},
   "outputs": [
    {
     "name": "stderr",
     "output_type": "stream",
     "text": [
      "C:\\Users\\DIVAKAR\\Anaconda3\\lib\\site-packages\\ipykernel_launcher.py:1: FutureWarning: Method .as_matrix will be removed in a future version. Use .values instead.\n",
      "  \"\"\"Entry point for launching an IPython kernel.\n"
     ]
    }
   ],
   "source": [
    "y_response=advertising_data['Sales'].as_matrix()"
   ]
  },
  {
   "cell_type": "code",
   "execution_count": 5,
   "metadata": {},
   "outputs": [
    {
     "data": {
      "text/plain": [
       "(200,)"
      ]
     },
     "execution_count": 5,
     "metadata": {},
     "output_type": "execute_result"
    }
   ],
   "source": [
    "y_response.shape"
   ]
  },
  {
   "cell_type": "code",
   "execution_count": 6,
   "metadata": {},
   "outputs": [
    {
     "data": {
      "text/plain": [
       "(200, 3)"
      ]
     },
     "execution_count": 6,
     "metadata": {},
     "output_type": "execute_result"
    }
   ],
   "source": [
    "x_feature.shape"
   ]
  },
  {
   "cell_type": "code",
   "execution_count": 7,
   "metadata": {},
   "outputs": [
    {
     "data": {
      "text/plain": [
       "' here first we define gradient decent algorithm and  error , error can be define after evaluation of different value of different\\n  feature and intercept of predicted regression line'"
      ]
     },
     "execution_count": 7,
     "metadata": {},
     "output_type": "execute_result"
    }
   ],
   "source": [
    "''' here first we define gradient decent algorithm and  error , error can be define after evaluation of different value of different\n",
    "  feature and intercept of predicted regression line'''"
   ]
  },
  {
   "cell_type": "code",
   "execution_count": 8,
   "metadata": {},
   "outputs": [],
   "source": [
    "def compute_error(m,x,y,n):\n",
    "    error_list=[]\n",
    "    for i in range(n):\n",
    "        error=0\n",
    "        for j in range(len(x)):\n",
    "            error += (y[j]-(m[i][0]+m[i][1]*x[j,0]+m[i][2]*x[j,1]+m[i][3]*x[j,2]))**2\n",
    "        error_list.append(error/(2*len(y)))\n",
    "    return error_list\n",
    "        \n",
    "def step_gradient(x_feature,y_response,learning_rate,m):\n",
    "    gradient_dm=[0,0,0,0]\n",
    "    for i in range(len(y_response)):\n",
    "        gradient_dm[0] += -(y_response[i]-(m[0]+m[1]*x_feature[i,0]+m[2]*x_feature[i,1]+m[3]*x_feature[i,2]))\n",
    "        gradient_dm[1] += -(y_response[i]-(m[0]+m[1]*x_feature[i,0]+m[2]*x_feature[i,1]+m[3]*x_feature[i,2]))*x_feature[i,0] \n",
    "        gradient_dm[2] += -(y_response[i]-(m[0]+m[1]*x_feature[i,0]+m[2]*x_feature[i,1]+m[3]*x_feature[i,2]))*x_feature[i,1]\n",
    "        gradient_dm[3] += -(y_response[i]-(m[0]+m[1]*x_feature[i,0]+m[2]*x_feature[i,1]+m[3]*x_feature[i,2]))*x_feature[i,2]\n",
    "    m[0]=m[0]-(learning_rate*gradient_dm[0])/len(y_response)\n",
    "    m[1]=m[1]-(learning_rate*gradient_dm[1])/len(y_response)  \n",
    "    m[2]=m[2]-(learning_rate*gradient_dm[2])/len(y_response)\n",
    "    m[3]=m[3]-(learning_rate*gradient_dm[3])/len(y_response)\n",
    "    return [m[0],m[1],m[2],m[3]]\n",
    "def gradient_decent(x_feature,y_response,learning_rate,num_of_iteration,m):\n",
    "    list_of_m=[];\n",
    "    for i in range(num_of_iteration):\n",
    "        m=step_gradient(x_feature,y_response,learning_rate,m)\n",
    "        list_of_m.append(m)\n",
    "    return list_of_m "
   ]
  },
  {
   "cell_type": "code",
   "execution_count": 9,
   "metadata": {},
   "outputs": [],
   "source": [
    "#import libraray module for plotting graph\n",
    "m=[0,0,0,0]\n",
    "import numpy as np\n",
    "import matplotlib.pyplot as plt"
   ]
  },
  {
   "cell_type": "code",
   "execution_count": 10,
   "metadata": {},
   "outputs": [],
   "source": [
    "'''now taking different value of learning rate and number of iteration and checking at what pair of value of learning rate and \n",
    "number of iteration error converges'''\n",
    "learning_rate=0.0001\n",
    "num_of_iteration=1000"
   ]
  },
  {
   "cell_type": "code",
   "execution_count": 11,
   "metadata": {},
   "outputs": [
    {
     "name": "stderr",
     "output_type": "stream",
     "text": [
      "C:\\Users\\DIVAKAR\\Anaconda3\\lib\\site-packages\\ipykernel_launcher.py:14: RuntimeWarning: overflow encountered in double_scalars\n",
      "  \n",
      "C:\\Users\\DIVAKAR\\Anaconda3\\lib\\site-packages\\ipykernel_launcher.py:15: RuntimeWarning: invalid value encountered in double_scalars\n",
      "  from ipykernel import kernelapp as app\n",
      "C:\\Users\\DIVAKAR\\Anaconda3\\lib\\site-packages\\ipykernel_launcher.py:18: RuntimeWarning: invalid value encountered in double_scalars\n",
      "C:\\Users\\DIVAKAR\\Anaconda3\\lib\\site-packages\\ipykernel_launcher.py:6: RuntimeWarning: overflow encountered in double_scalars\n",
      "  \n"
     ]
    }
   ],
   "source": [
    "values_of_m=gradient_decent(x_feature,y_response,learning_rate,num_of_iteration,m)\n",
    "values_of_iterated_error=compute_error(values_of_m,x_feature,y_response,num_of_iteration)\n",
    "numofite=np.arange(num_of_iteration)\n",
    "Error=np.array(values_of_iterated_error)"
   ]
  },
  {
   "cell_type": "code",
   "execution_count": 12,
   "metadata": {},
   "outputs": [
    {
     "data": {
      "image/png": "[encoded data removed]",
      "text/plain": [
       "<Figure size 432x288 with 1 Axes>"
      ]
     },
     "metadata": {
      "needs_background": "light"
     },
     "output_type": "display_data"
    },
    {
     "data": {
      "text/plain": [
       "Text(0.5,1,'Error_iteration_graph_of_sales_prediction')"
      ]
     },
     "execution_count": 12,
     "metadata": {},
     "output_type": "execute_result"
    },
    {
     "data": {
      "image/png": "[encoded data removed]",
      "text/plain": [
       "<Figure size 432x288 with 1 Axes>"
      ]
     },
     "metadata": {
      "needs_background": "light"
     },
     "output_type": "display_data"
    }
   ],
   "source": [
    "\n",
    "plt.plot(numofite,Error)\n",
    "plt.show()\n",
    "plt.xlabel('num_of_iteration -------->',color='b',size=14)\n",
    "plt.ylabel('Error_of_prediction_on_differnt_num_of_iteration',color='r',size=10)\n",
    "plt.title('Error_iteration_graph_of_sales_prediction',color='g',size=20)"
   ]
  },
  {
   "cell_type": "code",
   "execution_count": 13,
   "metadata": {},
   "outputs": [],
   "source": [
    "'''here error function is diverging instead of converging so we take some other combination of learning rate and numer of  \n",
    "   iteration '''\n",
    "learning_rate=0.000001\n",
    "num_of_iteration=1000"
   ]
  },
  {
   "cell_type": "code",
   "execution_count": 14,
   "metadata": {},
   "outputs": [
    {
     "data": {
      "image/png": "[encoded data removed]",
      "text/plain": [
       "<Figure size 432x288 with 1 Axes>"
      ]
     },
     "metadata": {
      "needs_background": "light"
     },
     "output_type": "display_data"
    },
    {
     "data": {
      "text/plain": [
       "Text(0.5,1,'Error_iteration_graph_of_sales_prediction')"
      ]
     },
     "execution_count": 14,
     "metadata": {},
     "output_type": "execute_result"
    },
    {
     "data": {
      "image/png": "[encoded data removed]",
      "text/plain": [
       "<Figure size 432x288 with 1 Axes>"
      ]
     },
     "metadata": {
      "needs_background": "light"
     },
     "output_type": "display_data"
    }
   ],
   "source": [
    "values_of_m=gradient_decent(x_feature,y_response,learning_rate,num_of_iteration,m)\n",
    "values_of_iterated_error=compute_error(values_of_m,x_feature,y_response,num_of_iteration)\n",
    "numofite=np.arange(num_of_iteration)\n",
    "Error=np.array(values_of_iterated_error)\n",
    "plt.plot(numofite,Error)\n",
    "plt.show()\n",
    "plt.xlabel('num_of_iteration -------->',color='b',size=14)\n",
    "plt.ylabel('Error_of_prediction_on_differnt_num_of_iteration',color='r',size=10)\n",
    "plt.title('Error_iteration_graph_of_sales_prediction',color='g',size=20)"
   ]
  },
  {
   "cell_type": "code",
   "execution_count": 15,
   "metadata": {},
   "outputs": [
    {
     "data": {
      "text/plain": [
       "4.951109148225681"
      ]
     },
     "execution_count": 15,
     "metadata": {},
     "output_type": "execute_result"
    }
   ],
   "source": [
    "#checking error after 1000 iteration\n",
    "Error[999]"
   ]
  },
  {
   "cell_type": "code",
   "execution_count": 16,
   "metadata": {},
   "outputs": [
    {
     "data": {
      "image/png": "[encoded data removed]",
      "text/plain": [
       "<Figure size 432x288 with 1 Axes>"
      ]
     },
     "metadata": {
      "needs_background": "light"
     },
     "output_type": "display_data"
    },
    {
     "data": {
      "text/plain": [
       "Text(0.5,1,'Error_iteration_graph_of_sales_prediction')"
      ]
     },
     "execution_count": 16,
     "metadata": {},
     "output_type": "execute_result"
    },
    {
     "data": {
      "image/png": "[encoded data removed]",
      "text/plain": [
       "<Figure size 432x288 with 1 Axes>"
      ]
     },
     "metadata": {
      "needs_background": "light"
     },
     "output_type": "display_data"
    }
   ],
   "source": [
    "learning_rate=0.00001\n",
    "num_of_iteration=100000\n",
    "values_of_m=gradient_decent(x_feature,y_response,learning_rate,num_of_iteration,m)\n",
    "values_of_iterated_error=compute_error(values_of_m,x_feature,y_response,num_of_iteration)\n",
    "numofite=np.arange(num_of_iteration)\n",
    "Error=np.array(values_of_iterated_error)\n",
    "plt.plot(numofite,Error)\n",
    "plt.show()\n",
    "plt.xlabel('num_of_iteration -------->',color='b',size=14)\n",
    "plt.ylabel('Error_of_prediction_on_differnt_num_of_iteration',color='r',size=10)\n",
    "plt.title('Error_iteration_graph_of_sales_prediction',color='g',size=20)"
   ]
  },
  {
   "cell_type": "code",
   "execution_count": 17,
   "metadata": {},
   "outputs": [
    {
     "data": {
      "text/plain": [
       "2.0895885171998736"
      ]
     },
     "execution_count": 17,
     "metadata": {},
     "output_type": "execute_result"
    }
   ],
   "source": [
    "Error[999]"
   ]
  },
  {
   "cell_type": "code",
   "execution_count": 18,
   "metadata": {},
   "outputs": [],
   "source": [
    "''' now taking some other value of learning rate and number of iteration'''\n",
    "learning_rate=0.00001\n",
    "num_of_iteration=1000"
   ]
  },
  {
   "cell_type": "code",
   "execution_count": 19,
   "metadata": {},
   "outputs": [
    {
     "data": {
      "image/png": "[encoded data removed]",
      "text/plain": [
       "<Figure size 432x288 with 1 Axes>"
      ]
     },
     "metadata": {
      "needs_background": "light"
     },
     "output_type": "display_data"
    },
    {
     "data": {
      "text/plain": [
       "Text(0.5,1,'Error_iteration_graph_of_sales_prediction')"
      ]
     },
     "execution_count": 19,
     "metadata": {},
     "output_type": "execute_result"
    },
    {
     "data": {
      "image/png": "[encoded data removed]",
      "text/plain": [
       "<Figure size 432x288 with 1 Axes>"
      ]
     },
     "metadata": {
      "needs_background": "light"
     },
     "output_type": "display_data"
    }
   ],
   "source": [
    "values_of_m=gradient_decent(x_feature,y_response,learning_rate,num_of_iteration,m)\n",
    "values_of_iterated_error=compute_error(values_of_m,x_feature,y_response,num_of_iteration)\n",
    "numofite=np.arange(num_of_iteration)\n",
    "Error=np.array(values_of_iterated_error)\n",
    "plt.plot(numofite,Error)\n",
    "plt.show()\n",
    "plt.xlabel('num_of_iteration -------->',color='b',size=14)\n",
    "plt.ylabel('Error_of_prediction_on_differnt_num_of_iteration',color='r',size=10)\n",
    "plt.title('Error_iteration_graph_of_sales_prediction',color='g',size=20)"
   ]
  },
  {
   "cell_type": "code",
   "execution_count": 20,
   "metadata": {},
   "outputs": [
    {
     "data": {
      "text/plain": [
       "2.0895885171998736"
      ]
     },
     "execution_count": 20,
     "metadata": {},
     "output_type": "execute_result"
    }
   ],
   "source": [
    "#now checking error after 1000 iteration\n",
    "Error[999]"
   ]
  },
  {
   "cell_type": "code",
   "execution_count": 21,
   "metadata": {},
   "outputs": [],
   "source": [
    "#in this case error is less compare to above one because in above case our learning rate is slow so error is divergeg slowly"
   ]
  },
  {
   "cell_type": "code",
   "execution_count": 22,
   "metadata": {},
   "outputs": [],
   "source": [
    "#now  vary iteration to 10000 and check errorn at learning rate equal to previous one\n",
    "num_of_iteration=10000"
   ]
  },
  {
   "cell_type": "code",
   "execution_count": 23,
   "metadata": {},
   "outputs": [
    {
     "data": {
      "image/png": "[encoded data removed]",
      "text/plain": [
       "<Figure size 432x288 with 1 Axes>"
      ]
     },
     "metadata": {
      "needs_background": "light"
     },
     "output_type": "display_data"
    },
    {
     "data": {
      "text/plain": [
       "Text(0.5,1,'Error_iteration_graph_of_sales_prediction')"
      ]
     },
     "execution_count": 23,
     "metadata": {},
     "output_type": "execute_result"
    },
    {
     "data": {
      "image/png": "[encoded data removed]",
      "text/plain": [
       "<Figure size 432x288 with 1 Axes>"
      ]
     },
     "metadata": {
      "needs_background": "light"
     },
     "output_type": "display_data"
    }
   ],
   "source": [
    "values_of_m=gradient_decent(x_feature,y_response,learning_rate,num_of_iteration,m)\n",
    "values_of_iterated_error=compute_error(values_of_m,x_feature,y_response,num_of_iteration)\n",
    "numofite=np.arange(num_of_iteration)\n",
    "Error=np.array(values_of_iterated_error)\n",
    "plt.plot(numofite,Error)\n",
    "plt.show()\n",
    "plt.xlabel('num_of_iteration -------->',color='b',size=14)\n",
    "plt.ylabel('Error_of_prediction_on_differnt_num_of_iteration',color='r',size=10)\n",
    "plt.title('Error_iteration_graph_of_sales_prediction',color='g',size=20)"
   ]
  },
  {
   "cell_type": "code",
   "execution_count": 24,
   "metadata": {},
   "outputs": [
    {
     "data": {
      "text/plain": [
       "2.089056449177523"
      ]
     },
     "execution_count": 24,
     "metadata": {},
     "output_type": "execute_result"
    }
   ],
   "source": [
    "#check error after 1000 iteration\n",
    "Error[999]"
   ]
  },
  {
   "cell_type": "code",
   "execution_count": 25,
   "metadata": {},
   "outputs": [
    {
     "data": {
      "text/plain": [
       "0.0005082372995963702"
      ]
     },
     "execution_count": 25,
     "metadata": {},
     "output_type": "execute_result"
    }
   ],
   "source": [
    "#when num_of_iteration=1000 Error[999]=2.0864079722894115 and when num_of_iteration=10000 Error[999]=2.0858997349898152 computing\n",
    "#differnec \n",
    "difference=2.0864079722894115-2.0858997349898152\n",
    "difference"
   ]
  },
  {
   "cell_type": "code",
   "execution_count": 26,
   "metadata": {},
   "outputs": [],
   "source": [
    "#hence error difference is very less but using num_of_iteration=10000 is slow the program because it runs the program ten times \n",
    "#greater so optimum value of learning rate could be 0.00001 and num_of_itertion=1000"
   ]
  },
  {
   "cell_type": "code",
   "execution_count": 27,
   "metadata": {},
   "outputs": [],
   "source": [
    "# so the optimum value of m can be taken\n",
    "learning_rate=0.00001\n",
    "num_of_iteration=1000\n",
    "m=gradient_decent(x_feature,y_response,learning_rate,num_of_iteration,m)\n",
    "optimum_value_of_m=m[199]"
   ]
  },
  {
   "cell_type": "code",
   "execution_count": 28,
   "metadata": {},
   "outputs": [
    {
     "data": {
      "text/plain": [
       "[0.002656174087962641,\n",
       " 0.06119394233348606,\n",
       " 0.10542181536919225,\n",
       " 0.05959967664579075]"
      ]
     },
     "execution_count": 28,
     "metadata": {},
     "output_type": "execute_result"
    }
   ],
   "source": [
    "optimum_value_of_m"
   ]
  },
  {
   "cell_type": "code",
   "execution_count": 29,
   "metadata": {},
   "outputs": [],
   "source": [
    "X=advertising_data.iloc[:,0:3]\n",
    "import numpy as np\n",
    "theta=np.array(optimum_value_of_m)"
   ]
  },
  {
   "cell_type": "code",
   "execution_count": 30,
   "metadata": {},
   "outputs": [],
   "source": [
    "X.loc[:,'x0']=np.ones(len(X))\n",
    "X=np.array(X)"
   ]
  },
  {
   "cell_type": "code",
   "execution_count": 31,
   "metadata": {},
   "outputs": [
    {
     "data": {
      "text/plain": [
       "7.357364546511913"
      ]
     },
     "execution_count": 31,
     "metadata": {},
     "output_type": "execute_result"
    }
   ],
   "source": [
    "X[4].dot(theta.T)"
   ]
  },
  {
   "cell_type": "code",
   "execution_count": 32,
   "metadata": {},
   "outputs": [
    {
     "data": {
      "text/html": [
       "<div>\n",
       "<style scoped>\n",
       "    .dataframe tbody tr th:only-of-type {\n",
       "        vertical-align: middle;\n",
       "    }\n",
       "\n",
       "    .dataframe tbody tr th {\n",
       "        vertical-align: top;\n",
       "    }\n",
       "\n",
       "    .dataframe thead th {\n",
       "        text-align: right;\n",
       "    }\n",
       "</style>\n",
       "<table border=\"1\" class=\"dataframe\">\n",
       "  <thead>\n",
       "    <tr style=\"text-align: right;\">\n",
       "      <th></th>\n",
       "      <th>TV</th>\n",
       "      <th>Radio</th>\n",
       "      <th>Newspaper</th>\n",
       "      <th>Sales</th>\n",
       "    </tr>\n",
       "  </thead>\n",
       "  <tbody>\n",
       "    <tr>\n",
       "      <th>1</th>\n",
       "      <td>230.1</td>\n",
       "      <td>37.8</td>\n",
       "      <td>69.2</td>\n",
       "      <td>22.1</td>\n",
       "    </tr>\n",
       "    <tr>\n",
       "      <th>2</th>\n",
       "      <td>44.5</td>\n",
       "      <td>39.3</td>\n",
       "      <td>45.1</td>\n",
       "      <td>10.4</td>\n",
       "    </tr>\n",
       "    <tr>\n",
       "      <th>3</th>\n",
       "      <td>17.2</td>\n",
       "      <td>45.9</td>\n",
       "      <td>69.3</td>\n",
       "      <td>9.3</td>\n",
       "    </tr>\n",
       "    <tr>\n",
       "      <th>4</th>\n",
       "      <td>151.5</td>\n",
       "      <td>41.3</td>\n",
       "      <td>58.5</td>\n",
       "      <td>18.5</td>\n",
       "    </tr>\n",
       "    <tr>\n",
       "      <th>5</th>\n",
       "      <td>180.8</td>\n",
       "      <td>10.8</td>\n",
       "      <td>58.4</td>\n",
       "      <td>12.9</td>\n",
       "    </tr>\n",
       "  </tbody>\n",
       "</table>\n",
       "</div>"
      ],
      "text/plain": [
       "      TV  Radio  Newspaper  Sales\n",
       "1  230.1   37.8       69.2   22.1\n",
       "2   44.5   39.3       45.1   10.4\n",
       "3   17.2   45.9       69.3    9.3\n",
       "4  151.5   41.3       58.5   18.5\n",
       "5  180.8   10.8       58.4   12.9"
      ]
     },
     "execution_count": 32,
     "metadata": {},
     "output_type": "execute_result"
    }
   ],
   "source": [
    "advertising_data.head()"
   ]
  }
 ],
 "metadata": {
  "kernelspec": {
   "display_name": "Python 3",
   "language": "python",
   "name": "python3"
  },
  "language_info": {
   "codemirror_mode": {
    "name": "ipython",
    "version": 3
   },
   "file_extension": ".py",
   "mimetype": "text/x-python",
   "name": "python",
   "nbconvert_exporter": "python",
   "pygments_lexer": "ipython3",
   "version": "3.7.0"
  }
 },
 "nbformat": 4,
 "nbformat_minor": 2
}
